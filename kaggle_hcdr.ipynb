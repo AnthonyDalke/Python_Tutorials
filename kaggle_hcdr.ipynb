{
<<<<<<< HEAD
 "metadata": {
  "language_info": {
   "codemirror_mode": {
    "name": "ipython",
    "version": 3
   },
   "file_extension": ".py",
   "mimetype": "text/x-python",
   "name": "python",
   "nbconvert_exporter": "python",
   "pygments_lexer": "ipython3",
   "version": 3
  },
  "orig_nbformat": 2
 },
 "nbformat": 4,
 "nbformat_minor": 2,
 "cells": [
  {
   "cell_type": "code",
   "execution_count": null,
=======
 "cells": [
  {
   "cell_type": "code",
   "execution_count": 1,
   "id": "lasting-chemical",
>>>>>>> 00eb43c8ca41fdc1c49745bf691a22adf060500c
   "metadata": {},
   "outputs": [],
   "source": [
    "# Import necessary libraries\n",
    "\n",
    "import os\n",
<<<<<<< HEAD
    "import pandas as pd\n",
    "\n",
    "#Test"
=======
    "import pandas as pd"
>>>>>>> 00eb43c8ca41fdc1c49745bf691a22adf060500c
   ]
  },
  {
   "cell_type": "code",
   "execution_count": null,
<<<<<<< HEAD
=======
   "id": "serious-adjustment",
>>>>>>> 00eb43c8ca41fdc1c49745bf691a22adf060500c
   "metadata": {},
   "outputs": [],
   "source": [
    "# Read in data\n",
    "\n",
    "os.chdir('/Users/anthony/Documents/home-credit-default-risk')\n",
    "\n",
    "app_train = pd.read_csv('application_train.csv')\n",
    "app_test = pd.read_csv('application_test.csv')\n",
    "cash_bal = pd.read_csv('POS_CASH_Balance.csv')\n",
    "bureau_hist = pd.read_csv('bureau.csv')\n",
    "bureau_bal = pd.read_csv('bureau_balance.csv')\n",
    "card_bal = pd.read_csv('credit_card_balance.csv')\n",
    "install_pmt = pd.read_csv('installments_payments.csv')\n",
    "app_prev = pd.read_csv('previous_application.csv')"
   ]
<<<<<<< HEAD
  }
 ]
}
=======
  },
  {
   "cell_type": "code",
   "execution_count": null,
   "id": "technical-squad",
   "metadata": {},
   "outputs": [],
   "source": []
  }
 ],
 "metadata": {
  "kernelspec": {
   "display_name": "Python 3",
   "language": "python",
   "name": "python3"
  },
  "language_info": {
   "codemirror_mode": {
    "name": "ipython",
    "version": 3
   },
   "file_extension": ".py",
   "mimetype": "text/x-python",
   "name": "python",
   "nbconvert_exporter": "python",
   "pygments_lexer": "ipython3",
   "version": "3.7.3"
  }
 },
 "nbformat": 4,
 "nbformat_minor": 5
}
>>>>>>> 00eb43c8ca41fdc1c49745bf691a22adf060500c
